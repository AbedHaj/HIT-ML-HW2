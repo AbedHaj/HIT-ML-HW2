{
 "cells": [
  {
   "cell_type": "markdown",
   "metadata": {},
   "source": [
    "# Assignment2 - Supervised Learning flow"
   ]
  },
  {
   "cell_type": "markdown",
   "metadata": {},
   "source": [
    "# Part 1(a) Student details:\n",
    "* Please write the First-Name, First letter of Last-Name and last 4 digits of the i.d. for each student. "
   ]
  },
  {
   "cell_type": "code",
   "execution_count": 1,
   "metadata": {},
   "outputs": [],
   "source": [
    "# Lior M. 2562 \n",
    "# Abed alhafeed H. 9866\n",
    "# Amit H. 4541"
   ]
  },
  {
   "cell_type": "markdown",
   "metadata": {},
   "source": [
    "## Part 1(b) - Chat-GPT/other AI-agent/other assistance used:\n",
    "* If you changed the prompt until you got a satisfying answer, please add all versions\n",
    "* don't delete \"pre\" tags, so new-line is supported\n",
    "* double click the following markdown cell to change\n",
    "* press shift+enter to view\n",
    "* Add information:"
   ]
  },
  {
   "cell_type": "markdown",
   "metadata": {},
   "source": [
    "#### Add information in this Markdown cell (double click to change, shift-enter to view)\n",
    "<pre>   \n",
    "AI agent name:\n",
    "Goal:\n",
    "Propmpt1:\n",
    "    \n",
    "Propmpt2:\n",
    "    \n",
    "Propmpt3: \n",
    "\n",
    "\n",
    "AI agent name 2:\n",
    "Goal:\n",
    "Propmpt1:\n",
    "    \n",
    "Propmpt2:\n",
    "    \n",
    "Propmpt3: \n",
    "\n",
    "Other assistanse:    \n",
    "</pre>"
   ]
  },
  {
   "cell_type": "markdown",
   "metadata": {},
   "source": [
    "## Part 1(c) - Learning Problem and dataset explaination.\n",
    "* Please explain in one paragraph\n",
    "* don't delete \"pre\" tags, so new-line is supported\n",
    "* double click the following markdown cell to change\n",
    "* press shift+enter to view\n",
    "* Add explaining text:"
   ]
  },
  {
   "cell_type": "markdown",
   "metadata": {},
   "source": [
    "#### Add information in this Markdown cell (double click to change, shift-enter to view)\n",
    "<pre>\n",
    "\n",
    "\n",
    "\n",
    "\n",
    "    \n",
    "</pre>"
   ]
  },
  {
   "cell_type": "markdown",
   "metadata": {},
   "source": [
    "## Part 2 - Initial Preparations \n",
    "You could add as many code cells as needed"
   ]
  },
  {
   "cell_type": "code",
   "execution_count": 2,
   "metadata": {},
   "outputs": [],
   "source": [
    "import numpy as np \n",
    "import pandas as pd\n",
    "import matplotlib.pyplot as plt\n",
    "import seaborn as sns\n",
    "from sklearn.neighbors import KNeighborsClassifier\n",
    "from sklearn.model_selection import train_test_split, cross_val_score\n",
    "from sklearn.metrics import accuracy_score, classification_report\n",
    "\n",
    "from sklearn.preprocessing import StandardScaler\n",
    "\n",
    "\n",
    "from sklearn.model_selection import cross_val_score\n",
    "from sklearn.model_selection import GridSearchCV\n",
    "\n",
    "from sklearn.naive_bayes import GaussianNB\n",
    "\n",
    "from sklearn.ensemble import RandomForestClassifier\n",
    "\n",
    "from sklearn.metrics import make_scorer\n",
    "from sklearn import metrics\n",
    "from sklearn.metrics import accuracy_score, precision_score, recall_score, f1_score, confusion_matrix"
   ]
  },
  {
   "cell_type": "code",
   "execution_count": 3,
   "metadata": {},
   "outputs": [
    {
     "data": {
      "text/html": [
       "<div>\n",
       "<style scoped>\n",
       "    .dataframe tbody tr th:only-of-type {\n",
       "        vertical-align: middle;\n",
       "    }\n",
       "\n",
       "    .dataframe tbody tr th {\n",
       "        vertical-align: top;\n",
       "    }\n",
       "\n",
       "    .dataframe thead th {\n",
       "        text-align: right;\n",
       "    }\n",
       "</style>\n",
       "<table border=\"1\" class=\"dataframe\">\n",
       "  <thead>\n",
       "    <tr style=\"text-align: right;\">\n",
       "      <th></th>\n",
       "      <th>Pclass</th>\n",
       "      <th>Sex</th>\n",
       "      <th>Age</th>\n",
       "      <th>SibSp</th>\n",
       "      <th>Parch</th>\n",
       "      <th>Fare</th>\n",
       "      <th>Embarked</th>\n",
       "      <th>Survived</th>\n",
       "    </tr>\n",
       "  </thead>\n",
       "  <tbody>\n",
       "    <tr>\n",
       "      <th>0</th>\n",
       "      <td>1</td>\n",
       "      <td>0</td>\n",
       "      <td>54.0</td>\n",
       "      <td>1</td>\n",
       "      <td>0</td>\n",
       "      <td>78.2667</td>\n",
       "      <td>1</td>\n",
       "      <td>1</td>\n",
       "    </tr>\n",
       "    <tr>\n",
       "      <th>1</th>\n",
       "      <td>2</td>\n",
       "      <td>0</td>\n",
       "      <td>45.0</td>\n",
       "      <td>0</td>\n",
       "      <td>0</td>\n",
       "      <td>13.5000</td>\n",
       "      <td>0</td>\n",
       "      <td>1</td>\n",
       "    </tr>\n",
       "    <tr>\n",
       "      <th>2</th>\n",
       "      <td>3</td>\n",
       "      <td>1</td>\n",
       "      <td>20.0</td>\n",
       "      <td>0</td>\n",
       "      <td>0</td>\n",
       "      <td>9.5000</td>\n",
       "      <td>0</td>\n",
       "      <td>0</td>\n",
       "    </tr>\n",
       "    <tr>\n",
       "      <th>3</th>\n",
       "      <td>3</td>\n",
       "      <td>1</td>\n",
       "      <td>36.0</td>\n",
       "      <td>0</td>\n",
       "      <td>0</td>\n",
       "      <td>7.8958</td>\n",
       "      <td>0</td>\n",
       "      <td>0</td>\n",
       "    </tr>\n",
       "    <tr>\n",
       "      <th>4</th>\n",
       "      <td>3</td>\n",
       "      <td>1</td>\n",
       "      <td>22.0</td>\n",
       "      <td>0</td>\n",
       "      <td>0</td>\n",
       "      <td>8.0500</td>\n",
       "      <td>0</td>\n",
       "      <td>0</td>\n",
       "    </tr>\n",
       "  </tbody>\n",
       "</table>\n",
       "</div>"
      ],
      "text/plain": [
       "   Pclass  Sex   Age  SibSp  Parch     Fare  Embarked  Survived\n",
       "0       1    0  54.0      1      0  78.2667         1         1\n",
       "1       2    0  45.0      0      0  13.5000         0         1\n",
       "2       3    1  20.0      0      0   9.5000         0         0\n",
       "3       3    1  36.0      0      0   7.8958         0         0\n",
       "4       3    1  22.0      0      0   8.0500         0         0"
      ]
     },
     "execution_count": 3,
     "metadata": {},
     "output_type": "execute_result"
    }
   ],
   "source": [
    "df = pd.read_csv(\"titanic_train.csv\")\n",
    "\n",
    "df.head()\n"
   ]
  },
  {
   "cell_type": "code",
   "execution_count": 4,
   "metadata": {},
   "outputs": [
    {
     "data": {
      "text/plain": [
       "(712, 8)"
      ]
     },
     "execution_count": 4,
     "metadata": {},
     "output_type": "execute_result"
    }
   ],
   "source": [
    "df.shape"
   ]
  },
  {
   "cell_type": "code",
   "execution_count": 5,
   "metadata": {},
   "outputs": [
    {
     "data": {
      "text/html": [
       "<div>\n",
       "<style scoped>\n",
       "    .dataframe tbody tr th:only-of-type {\n",
       "        vertical-align: middle;\n",
       "    }\n",
       "\n",
       "    .dataframe tbody tr th {\n",
       "        vertical-align: top;\n",
       "    }\n",
       "\n",
       "    .dataframe thead th {\n",
       "        text-align: right;\n",
       "    }\n",
       "</style>\n",
       "<table border=\"1\" class=\"dataframe\">\n",
       "  <thead>\n",
       "    <tr style=\"text-align: right;\">\n",
       "      <th></th>\n",
       "      <th>Pclass</th>\n",
       "      <th>Sex</th>\n",
       "      <th>Age</th>\n",
       "      <th>SibSp</th>\n",
       "      <th>Parch</th>\n",
       "      <th>Fare</th>\n",
       "      <th>Embarked</th>\n",
       "      <th>Survived</th>\n",
       "    </tr>\n",
       "  </thead>\n",
       "  <tbody>\n",
       "    <tr>\n",
       "      <th>Pclass</th>\n",
       "      <td>1.000000</td>\n",
       "      <td>0.126986</td>\n",
       "      <td>-0.319927</td>\n",
       "      <td>0.093572</td>\n",
       "      <td>0.048225</td>\n",
       "      <td>-0.543722</td>\n",
       "      <td>0.040708</td>\n",
       "      <td>-0.324024</td>\n",
       "    </tr>\n",
       "    <tr>\n",
       "      <th>Sex</th>\n",
       "      <td>0.126986</td>\n",
       "      <td>1.000000</td>\n",
       "      <td>0.089108</td>\n",
       "      <td>-0.079976</td>\n",
       "      <td>-0.242467</td>\n",
       "      <td>-0.183650</td>\n",
       "      <td>-0.124908</td>\n",
       "      <td>-0.550699</td>\n",
       "    </tr>\n",
       "    <tr>\n",
       "      <th>Age</th>\n",
       "      <td>-0.319927</td>\n",
       "      <td>0.089108</td>\n",
       "      <td>1.000000</td>\n",
       "      <td>-0.270404</td>\n",
       "      <td>-0.202725</td>\n",
       "      <td>0.071787</td>\n",
       "      <td>0.031524</td>\n",
       "      <td>-0.072729</td>\n",
       "    </tr>\n",
       "    <tr>\n",
       "      <th>SibSp</th>\n",
       "      <td>0.093572</td>\n",
       "      <td>-0.079976</td>\n",
       "      <td>-0.270404</td>\n",
       "      <td>1.000000</td>\n",
       "      <td>0.415491</td>\n",
       "      <td>0.136861</td>\n",
       "      <td>-0.049109</td>\n",
       "      <td>-0.031052</td>\n",
       "    </tr>\n",
       "    <tr>\n",
       "      <th>Parch</th>\n",
       "      <td>0.048225</td>\n",
       "      <td>-0.242467</td>\n",
       "      <td>-0.202725</td>\n",
       "      <td>0.415491</td>\n",
       "      <td>1.000000</td>\n",
       "      <td>0.151631</td>\n",
       "      <td>-0.072698</td>\n",
       "      <td>0.074699</td>\n",
       "    </tr>\n",
       "    <tr>\n",
       "      <th>Fare</th>\n",
       "      <td>-0.543722</td>\n",
       "      <td>-0.183650</td>\n",
       "      <td>0.071787</td>\n",
       "      <td>0.136861</td>\n",
       "      <td>0.151631</td>\n",
       "      <td>1.000000</td>\n",
       "      <td>0.078197</td>\n",
       "      <td>0.264345</td>\n",
       "    </tr>\n",
       "    <tr>\n",
       "      <th>Embarked</th>\n",
       "      <td>0.040708</td>\n",
       "      <td>-0.124908</td>\n",
       "      <td>0.031524</td>\n",
       "      <td>-0.049109</td>\n",
       "      <td>-0.072698</td>\n",
       "      <td>0.078197</td>\n",
       "      <td>1.000000</td>\n",
       "      <td>0.099162</td>\n",
       "    </tr>\n",
       "    <tr>\n",
       "      <th>Survived</th>\n",
       "      <td>-0.324024</td>\n",
       "      <td>-0.550699</td>\n",
       "      <td>-0.072729</td>\n",
       "      <td>-0.031052</td>\n",
       "      <td>0.074699</td>\n",
       "      <td>0.264345</td>\n",
       "      <td>0.099162</td>\n",
       "      <td>1.000000</td>\n",
       "    </tr>\n",
       "  </tbody>\n",
       "</table>\n",
       "</div>"
      ],
      "text/plain": [
       "            Pclass       Sex       Age     SibSp     Parch      Fare  \\\n",
       "Pclass    1.000000  0.126986 -0.319927  0.093572  0.048225 -0.543722   \n",
       "Sex       0.126986  1.000000  0.089108 -0.079976 -0.242467 -0.183650   \n",
       "Age      -0.319927  0.089108  1.000000 -0.270404 -0.202725  0.071787   \n",
       "SibSp     0.093572 -0.079976 -0.270404  1.000000  0.415491  0.136861   \n",
       "Parch     0.048225 -0.242467 -0.202725  0.415491  1.000000  0.151631   \n",
       "Fare     -0.543722 -0.183650  0.071787  0.136861  0.151631  1.000000   \n",
       "Embarked  0.040708 -0.124908  0.031524 -0.049109 -0.072698  0.078197   \n",
       "Survived -0.324024 -0.550699 -0.072729 -0.031052  0.074699  0.264345   \n",
       "\n",
       "          Embarked  Survived  \n",
       "Pclass    0.040708 -0.324024  \n",
       "Sex      -0.124908 -0.550699  \n",
       "Age       0.031524 -0.072729  \n",
       "SibSp    -0.049109 -0.031052  \n",
       "Parch    -0.072698  0.074699  \n",
       "Fare      0.078197  0.264345  \n",
       "Embarked  1.000000  0.099162  \n",
       "Survived  0.099162  1.000000  "
      ]
     },
     "execution_count": 5,
     "metadata": {},
     "output_type": "execute_result"
    }
   ],
   "source": [
    "df = df[[col for col in df.columns if col !='Survived']+ ['Survived']]  \n",
    "corr = df.corr()\n",
    "corr"
   ]
  },
  {
   "cell_type": "code",
   "execution_count": 6,
   "metadata": {},
   "outputs": [
    {
     "data": {
      "text/plain": [
       "<matplotlib.axes._subplots.AxesSubplot at 0x2b8ce117e48>"
      ]
     },
     "execution_count": 6,
     "metadata": {},
     "output_type": "execute_result"
    },
    {
     "data": {
      "image/png": "[encoded data removed]",
      "text/plain": [
       "<Figure size 1080x720 with 2 Axes>"
      ]
     },
     "metadata": {
      "needs_background": "light"
     },
     "output_type": "display_data"
    }
   ],
   "source": [
    "plt.figure(figsize=(15,10))\n",
    "sns.heatmap(df.corr(),linewidths=5, annot=True)"
   ]
  },
  {
   "cell_type": "code",
   "execution_count": 7,
   "metadata": {},
   "outputs": [
    {
     "data": {
      "text/html": [
       "<div>\n",
       "<style scoped>\n",
       "    .dataframe tbody tr th:only-of-type {\n",
       "        vertical-align: middle;\n",
       "    }\n",
       "\n",
       "    .dataframe tbody tr th {\n",
       "        vertical-align: top;\n",
       "    }\n",
       "\n",
       "    .dataframe thead th {\n",
       "        text-align: right;\n",
       "    }\n",
       "</style>\n",
       "<table border=\"1\" class=\"dataframe\">\n",
       "  <thead>\n",
       "    <tr style=\"text-align: right;\">\n",
       "      <th></th>\n",
       "      <th>Pclass</th>\n",
       "      <th>Sex</th>\n",
       "      <th>Age</th>\n",
       "      <th>SibSp</th>\n",
       "      <th>Parch</th>\n",
       "      <th>Fare</th>\n",
       "      <th>Embarked</th>\n",
       "      <th>Survived</th>\n",
       "    </tr>\n",
       "  </thead>\n",
       "  <tbody>\n",
       "    <tr>\n",
       "      <th>count</th>\n",
       "      <td>712.000000</td>\n",
       "      <td>712.000000</td>\n",
       "      <td>712.000000</td>\n",
       "      <td>712.000000</td>\n",
       "      <td>712.000000</td>\n",
       "      <td>712.000000</td>\n",
       "      <td>712.000000</td>\n",
       "      <td>712.000000</td>\n",
       "    </tr>\n",
       "    <tr>\n",
       "      <th>mean</th>\n",
       "      <td>2.294944</td>\n",
       "      <td>0.640449</td>\n",
       "      <td>29.531213</td>\n",
       "      <td>0.528090</td>\n",
       "      <td>0.384831</td>\n",
       "      <td>32.379429</td>\n",
       "      <td>0.372191</td>\n",
       "      <td>0.394663</td>\n",
       "    </tr>\n",
       "    <tr>\n",
       "      <th>std</th>\n",
       "      <td>0.841990</td>\n",
       "      <td>0.480206</td>\n",
       "      <td>13.188028</td>\n",
       "      <td>1.055052</td>\n",
       "      <td>0.803085</td>\n",
       "      <td>49.836074</td>\n",
       "      <td>0.649970</td>\n",
       "      <td>0.489122</td>\n",
       "    </tr>\n",
       "    <tr>\n",
       "      <th>min</th>\n",
       "      <td>1.000000</td>\n",
       "      <td>0.000000</td>\n",
       "      <td>0.670000</td>\n",
       "      <td>0.000000</td>\n",
       "      <td>0.000000</td>\n",
       "      <td>0.000000</td>\n",
       "      <td>0.000000</td>\n",
       "      <td>0.000000</td>\n",
       "    </tr>\n",
       "    <tr>\n",
       "      <th>25%</th>\n",
       "      <td>1.750000</td>\n",
       "      <td>0.000000</td>\n",
       "      <td>22.000000</td>\n",
       "      <td>0.000000</td>\n",
       "      <td>0.000000</td>\n",
       "      <td>7.925000</td>\n",
       "      <td>0.000000</td>\n",
       "      <td>0.000000</td>\n",
       "    </tr>\n",
       "    <tr>\n",
       "      <th>50%</th>\n",
       "      <td>3.000000</td>\n",
       "      <td>1.000000</td>\n",
       "      <td>29.699118</td>\n",
       "      <td>0.000000</td>\n",
       "      <td>0.000000</td>\n",
       "      <td>14.500000</td>\n",
       "      <td>0.000000</td>\n",
       "      <td>0.000000</td>\n",
       "    </tr>\n",
       "    <tr>\n",
       "      <th>75%</th>\n",
       "      <td>3.000000</td>\n",
       "      <td>1.000000</td>\n",
       "      <td>35.000000</td>\n",
       "      <td>1.000000</td>\n",
       "      <td>0.000000</td>\n",
       "      <td>31.275000</td>\n",
       "      <td>1.000000</td>\n",
       "      <td>1.000000</td>\n",
       "    </tr>\n",
       "    <tr>\n",
       "      <th>max</th>\n",
       "      <td>3.000000</td>\n",
       "      <td>1.000000</td>\n",
       "      <td>80.000000</td>\n",
       "      <td>8.000000</td>\n",
       "      <td>6.000000</td>\n",
       "      <td>512.329200</td>\n",
       "      <td>3.000000</td>\n",
       "      <td>1.000000</td>\n",
       "    </tr>\n",
       "  </tbody>\n",
       "</table>\n",
       "</div>"
      ],
      "text/plain": [
       "           Pclass         Sex         Age       SibSp       Parch        Fare  \\\n",
       "count  712.000000  712.000000  712.000000  712.000000  712.000000  712.000000   \n",
       "mean     2.294944    0.640449   29.531213    0.528090    0.384831   32.379429   \n",
       "std      0.841990    0.480206   13.188028    1.055052    0.803085   49.836074   \n",
       "min      1.000000    0.000000    0.670000    0.000000    0.000000    0.000000   \n",
       "25%      1.750000    0.000000   22.000000    0.000000    0.000000    7.925000   \n",
       "50%      3.000000    1.000000   29.699118    0.000000    0.000000   14.500000   \n",
       "75%      3.000000    1.000000   35.000000    1.000000    0.000000   31.275000   \n",
       "max      3.000000    1.000000   80.000000    8.000000    6.000000  512.329200   \n",
       "\n",
       "         Embarked    Survived  \n",
       "count  712.000000  712.000000  \n",
       "mean     0.372191    0.394663  \n",
       "std      0.649970    0.489122  \n",
       "min      0.000000    0.000000  \n",
       "25%      0.000000    0.000000  \n",
       "50%      0.000000    0.000000  \n",
       "75%      1.000000    1.000000  \n",
       "max      3.000000    1.000000  "
      ]
     },
     "execution_count": 7,
     "metadata": {},
     "output_type": "execute_result"
    }
   ],
   "source": [
    "df.describe()"
   ]
  },
  {
   "cell_type": "code",
   "execution_count": 8,
   "metadata": {},
   "outputs": [
    {
     "data": {
      "image/png": "[encoded data removed]",
      "text/plain": [
       "<Figure size 432x288 with 1 Axes>"
      ]
     },
     "metadata": {
      "needs_background": "light"
     },
     "output_type": "display_data"
    }
   ],
   "source": [
    "sns.countplot(x='Survived', data=df, palette='viridis')\n",
    "plt.title('Survival Count')\n",
    "plt.ylabel('No. of Passengers')\n",
    "plt.xlabel(\"Survived or not\")\n",
    "plt.xticks([0, 1], ['Died', 'Survived'])\n",
    "plt.show()"
   ]
  },
  {
   "cell_type": "code",
   "execution_count": 9,
   "metadata": {},
   "outputs": [
    {
     "data": {
      "image/png": "[encoded data removed]",
      "text/plain": [
       "<Figure size 432x288 with 1 Axes>"
      ]
     },
     "metadata": {
      "needs_background": "light"
     },
     "output_type": "display_data"
    }
   ],
   "source": [
    "sns.countplot(data=df, x='Sex', hue='Survived', palette='viridis')\n",
    "plt.xticks([0, 1], ['Male', 'Female'])\n",
    "plt.title('Survival Count by Sex')\n",
    "plt.xlabel('Sex')\n",
    "plt.ylabel('Count')\n",
    "plt.legend(title='Survived', labels=['No', 'Yes'])\n",
    "plt.show()\n"
   ]
  },
  {
   "cell_type": "code",
   "execution_count": 10,
   "metadata": {},
   "outputs": [
    {
     "data": {
      "text/plain": [
       "[]"
      ]
     },
     "execution_count": 10,
     "metadata": {},
     "output_type": "execute_result"
    },
    {
     "data": {
      "image/png": "[encoded data removed]",
      "text/plain": [
       "<Figure size 432x288 with 1 Axes>"
      ]
     },
     "metadata": {
      "needs_background": "light"
     },
     "output_type": "display_data"
    }
   ],
   "source": [
    "ax=sns.boxplot(data=df, x='Survived', y='Fare', palette='viridis')\n",
    "ax.set_xticklabels(['Died', 'Survived'])\n",
    "plt.xlabel(\"Survived or not\")\n",
    "plt.plot()"
   ]
  },
  {
   "cell_type": "code",
   "execution_count": 11,
   "metadata": {},
   "outputs": [
    {
     "data": {
      "image/png": "[encoded data removed]",
      "text/plain": [
       "<Figure size 576x288 with 1 Axes>"
      ]
     },
     "metadata": {
      "needs_background": "light"
     },
     "output_type": "display_data"
    }
   ],
   "source": [
    "plt.figure(figsize=(8, 4))\n",
    "sns.distplot(df['Age'], bins=30, kde=True, color='red')\n",
    "plt.title('Age Distribution of Titanic Passengers')\n",
    "plt.xlabel('Age')\n",
    "plt.ylabel('No. of Passengers')\n",
    "plt.show()"
   ]
  },
  {
   "cell_type": "raw",
   "metadata": {},
   "source": [
    "sns.countplot(x='Pclass', data=df, palette='cool')\n",
    "plt.title('Passenger Class Distribution')\n",
    "plt.xlabel('Class (1 = 1st, 2 = 2nd, 3 = 3rd)')\n",
    "plt.ylabel('Count')\n",
    "plt.show()"
   ]
  },
  {
   "cell_type": "code",
   "execution_count": 12,
   "metadata": {},
   "outputs": [
    {
     "data": {
      "text/plain": [
       "<matplotlib.axes._subplots.AxesSubplot at 0x2b8ce6486d8>"
      ]
     },
     "execution_count": 12,
     "metadata": {},
     "output_type": "execute_result"
    },
    {
     "data": {
      "image/png": "[encoded data removed]",
      "text/plain": [
       "<Figure size 432x288 with 1 Axes>"
      ]
     },
     "metadata": {
      "needs_background": "light"
     },
     "output_type": "display_data"
    }
   ],
   "source": [
    "sns.countplot(x='Survived', hue='Pclass', data=df, palette='viridis')"
   ]
  },
  {
   "cell_type": "code",
   "execution_count": 13,
   "metadata": {},
   "outputs": [
    {
     "data": {
      "image/png": "[encoded data removed]",
      "text/plain": [
       "<Figure size 432x288 with 1 Axes>"
      ]
     },
     "metadata": {
      "needs_background": "light"
     },
     "output_type": "display_data"
    }
   ],
   "source": [
    "sns.barplot(x='Pclass', y='Survived', data=df, palette='viridis')\n",
    "plt.title('Survival Rate by Passenger Class')\n",
    "plt.ylabel('Survival Rate')\n",
    "plt.xlabel('Class (1 = High, 3 = Low)')\n",
    "plt.show()"
   ]
  },
  {
   "cell_type": "code",
   "execution_count": 14,
   "metadata": {},
   "outputs": [
    {
     "data": {
      "text/plain": [
       "([<matplotlib.axis.XTick at 0x2b8ce4ed2e8>,\n",
       "  <matplotlib.axis.XTick at 0x2b8ce4dacc0>],\n",
       " <a list of 2 Text xticklabel objects>)"
      ]
     },
     "execution_count": 14,
     "metadata": {},
     "output_type": "execute_result"
    },
    {
     "data": {
      "image/png": "[encoded data removed]",
      "text/plain": [
       "<Figure size 432x288 with 1 Axes>"
      ]
     },
     "metadata": {
      "needs_background": "light"
     },
     "output_type": "display_data"
    }
   ],
   "source": [
    "sns.boxplot(data=df, x=\"Survived\", y=\"Age\", palette=\"viridis\")\n",
    "plt.title(\"Age Distribution by Survival\")\n",
    "plt.xticks([0, 1], ['Did Not Survive', 'Survived'])"
   ]
  },
  {
   "cell_type": "code",
   "execution_count": 15,
   "metadata": {},
   "outputs": [
    {
     "data": {
      "text/plain": [
       "(array([0, 1, 2, 3, 4]), <a list of 5 Text xticklabel objects>)"
      ]
     },
     "execution_count": 15,
     "metadata": {},
     "output_type": "execute_result"
    },
    {
     "data": {
      "image/png": "[encoded data removed]",
      "text/plain": [
       "<Figure size 432x288 with 1 Axes>"
      ]
     },
     "metadata": {
      "needs_background": "light"
     },
     "output_type": "display_data"
    }
   ],
   "source": [
    "df['AgeGroup'] = pd.cut(df['Age'], bins=[0, 12, 18, 35, 60, 100],\n",
    "                        labels=['Child', 'Teen', 'Young Adult', 'Adult', 'Senior'])\n",
    "\n",
    "sns.countplot(data=df, x=\"AgeGroup\", hue=\"Survived\", palette=\"hot\")\n",
    "plt.title(\"Survival by Age Group\")\n",
    "plt.xticks(rotation=30)\n"
   ]
  },
  {
   "cell_type": "markdown",
   "metadata": {},
   "source": [
    "## Part 3 - Experiments\n",
    "You could add as many code cells as needed"
   ]
  },
  {
   "cell_type": "code",
   "execution_count": 16,
   "metadata": {},
   "outputs": [],
   "source": [
    "df_copy = df.copy() \n",
    "\n",
    "\n",
    "age_group_mapping = {'Child': 1, 'Teen': 2, 'Young Adult': 3, 'Adult': 4, 'Senior': 5}\n",
    "df_copy['AgeGroup'] = df_copy['AgeGroup'].map(age_group_mapping)\n",
    "\n",
    "\n",
    "\n",
    "\n",
    "df_copy['Family_Size'] = df_copy['SibSp'] + df_copy['Parch'] + 1\n",
    "df_copy = df_copy.drop('SibSp', axis=1)\n",
    "df_copy = df_copy.drop('Parch', axis=1)\n",
    "\n",
    "\n",
    "df_copy = df_copy.drop('Age', axis=1)\n",
    "#print(df_copy)"
   ]
  },
  {
   "cell_type": "code",
   "execution_count": 17,
   "metadata": {},
   "outputs": [
    {
     "data": {
      "text/plain": [
       "<matplotlib.axes._subplots.AxesSubplot at 0x2b8cea7ecf8>"
      ]
     },
     "execution_count": 17,
     "metadata": {},
     "output_type": "execute_result"
    },
    {
     "data": {
      "image/png": "[encoded data removed]",
      "text/plain": [
       "<Figure size 1080x720 with 2 Axes>"
      ]
     },
     "metadata": {
      "needs_background": "light"
     },
     "output_type": "display_data"
    }
   ],
   "source": [
    "plt.figure(figsize=(15,10))\n",
    "sns.heatmap(df_copy.corr(),linewidths=5, annot=True)"
   ]
  },
  {
   "cell_type": "code",
   "execution_count": 18,
   "metadata": {},
   "outputs": [
    {
     "data": {
      "text/html": [
       "<div>\n",
       "<style scoped>\n",
       "    .dataframe tbody tr th:only-of-type {\n",
       "        vertical-align: middle;\n",
       "    }\n",
       "\n",
       "    .dataframe tbody tr th {\n",
       "        vertical-align: top;\n",
       "    }\n",
       "\n",
       "    .dataframe thead th {\n",
       "        text-align: right;\n",
       "    }\n",
       "</style>\n",
       "<table border=\"1\" class=\"dataframe\">\n",
       "  <thead>\n",
       "    <tr style=\"text-align: right;\">\n",
       "      <th></th>\n",
       "      <th>Pclass</th>\n",
       "      <th>Sex</th>\n",
       "      <th>Fare</th>\n",
       "      <th>Embarked</th>\n",
       "      <th>Survived</th>\n",
       "      <th>AgeGroup</th>\n",
       "      <th>Family_Size</th>\n",
       "    </tr>\n",
       "  </thead>\n",
       "  <tbody>\n",
       "    <tr>\n",
       "      <th>0</th>\n",
       "      <td>1</td>\n",
       "      <td>0</td>\n",
       "      <td>78.2667</td>\n",
       "      <td>1</td>\n",
       "      <td>1</td>\n",
       "      <td>4</td>\n",
       "      <td>2</td>\n",
       "    </tr>\n",
       "    <tr>\n",
       "      <th>1</th>\n",
       "      <td>2</td>\n",
       "      <td>0</td>\n",
       "      <td>13.5000</td>\n",
       "      <td>0</td>\n",
       "      <td>1</td>\n",
       "      <td>4</td>\n",
       "      <td>1</td>\n",
       "    </tr>\n",
       "    <tr>\n",
       "      <th>2</th>\n",
       "      <td>3</td>\n",
       "      <td>1</td>\n",
       "      <td>9.5000</td>\n",
       "      <td>0</td>\n",
       "      <td>0</td>\n",
       "      <td>3</td>\n",
       "      <td>1</td>\n",
       "    </tr>\n",
       "    <tr>\n",
       "      <th>3</th>\n",
       "      <td>3</td>\n",
       "      <td>1</td>\n",
       "      <td>7.8958</td>\n",
       "      <td>0</td>\n",
       "      <td>0</td>\n",
       "      <td>4</td>\n",
       "      <td>1</td>\n",
       "    </tr>\n",
       "    <tr>\n",
       "      <th>4</th>\n",
       "      <td>3</td>\n",
       "      <td>1</td>\n",
       "      <td>8.0500</td>\n",
       "      <td>0</td>\n",
       "      <td>0</td>\n",
       "      <td>3</td>\n",
       "      <td>1</td>\n",
       "    </tr>\n",
       "  </tbody>\n",
       "</table>\n",
       "</div>"
      ],
      "text/plain": [
       "   Pclass  Sex     Fare  Embarked  Survived  AgeGroup  Family_Size\n",
       "0       1    0  78.2667         1         1         4            2\n",
       "1       2    0  13.5000         0         1         4            1\n",
       "2       3    1   9.5000         0         0         3            1\n",
       "3       3    1   7.8958         0         0         4            1\n",
       "4       3    1   8.0500         0         0         3            1"
      ]
     },
     "execution_count": 18,
     "metadata": {},
     "output_type": "execute_result"
    }
   ],
   "source": [
    "df_copy.head()"
   ]
  },
  {
   "cell_type": "code",
   "execution_count": 19,
   "metadata": {},
   "outputs": [],
   "source": [
    "x= df_copy.drop('Survived', axis=1)  #way x_train instead of x\n",
    "y = df_copy['Survived']     #was y_train instead of y\n",
    "\n",
    "x_train, x_test, y_train, y_test = train_test_split(x, y, test_size=0.2, random_state=42)\n",
    "\n",
    "scaler = StandardScaler()\n",
    "x_train_scaled = scaler.fit_transform(x_train)\n",
    "x_test_scaled = scaler.transform(x_test)"
   ]
  },
  {
   "cell_type": "code",
   "execution_count": 20,
   "metadata": {
    "scrolled": true
   },
   "outputs": [
    {
     "name": "stderr",
     "output_type": "stream",
     "text": [
      "C:\\Users\\abedh\\Anaconda3\\lib\\site-packages\\sklearn\\model_selection\\_split.py:1978: FutureWarning: The default value of cv will change from 3 to 5 in version 0.22. Specify it explicitly to silence this warning.\n",
      "  warnings.warn(CV_WARNING, FutureWarning)\n"
     ]
    },
    {
     "name": "stdout",
     "output_type": "stream",
     "text": [
      "9\n"
     ]
    },
    {
     "name": "stderr",
     "output_type": "stream",
     "text": [
      "C:\\Users\\abedh\\Anaconda3\\lib\\site-packages\\sklearn\\model_selection\\_search.py:813: DeprecationWarning: The default of the `iid` parameter will change from True to False in version 0.22 and will be removed in 0.24. This will change numeric results when test-set sizes are unequal.\n",
      "  DeprecationWarning)\n"
     ]
    }
   ],
   "source": [
    "param_grid = {'n_neighbors': range(1, 21)}\n",
    "classifier = GridSearchCV(KNeighborsClassifier(),param_grid , scoring=make_scorer(metrics.f1_score, greater_is_better=True))\n",
    "classifier.fit(x_train_scaled, y_train)\n",
    "best_K = classifier.best_params_['n_neighbors']\n",
    "print(best_K)\n",
    "\n",
    "#Knn_model=KNeighborsClassifier(best_K)\n",
    "#Knn_model.fit(x_train_scaled, y_train)  ## was x_text instead of x_test_scaled\n",
    "#y_pred = Knn_model.predict(x_test_scaled)\n",
    "#print(\"Accuracy:\", accuracy_score(y_test, y_pred))\n",
    "#print(\"F1 Score\", f1_score(y_test, y_pred))\n",
    "#print(classification_report(y_test, y_pred))"
   ]
  },
  {
   "cell_type": "code",
   "execution_count": 21,
   "metadata": {},
   "outputs": [
    {
     "name": "stderr",
     "output_type": "stream",
     "text": [
      "C:\\Users\\abedh\\Anaconda3\\lib\\site-packages\\sklearn\\model_selection\\_split.py:1978: FutureWarning: The default value of cv will change from 3 to 5 in version 0.22. Specify it explicitly to silence this warning.\n",
      "  warnings.warn(CV_WARNING, FutureWarning)\n"
     ]
    },
    {
     "name": "stdout",
     "output_type": "stream",
     "text": [
      "Best n: 50\n",
      "max_depth: 20\n",
      "min_samples_split: 2\n",
      "min_samples_leaf 2\n"
     ]
    }
   ],
   "source": [
    "# Random Forest\n",
    "\n",
    "# Define the parameter grid\n",
    "param_grid = {\n",
    "    'n_estimators': [50, 100, 200],\n",
    "    'max_depth': [None, 10, 20, 30],\n",
    "    'min_samples_split': [2, 5, 10],\n",
    "    'min_samples_leaf': [1, 2, 4]\n",
    "}\n",
    "\n",
    "random_forest = GridSearchCV(RandomForestClassifier(),param_grid , scoring=make_scorer(metrics.f1_score, greater_is_better=True))\n",
    "random_forest.fit(x_train, y_train)\n",
    "\n",
    "best_n = random_forest.best_params_['n_estimators']\n",
    "print(\"Best n:\",best_n)\n",
    "best_max_depth = random_forest.best_params_['max_depth']\n",
    "print(\"max_depth:\",best_max_depth)\n",
    "best_min_samples_split = random_forest.best_params_['min_samples_split']\n",
    "print(\"min_samples_split:\",best_min_samples_split)\n",
    "best_min_samples_leaf = random_forest.best_params_['min_samples_leaf']\n",
    "print(\"min_samples_leaf\",best_min_samples_leaf)\n",
    "\n",
    "\n",
    "#print(classification_report(y_test, y_pred))"
   ]
  },
  {
   "cell_type": "markdown",
   "metadata": {},
   "source": [
    "## Part 4 - Training \n",
    "Use the best combination of feature engineering, model (algorithm and hyperparameters) from the experiment part (part 3)"
   ]
  },
  {
   "cell_type": "code",
   "execution_count": 22,
   "metadata": {},
   "outputs": [
    {
     "name": "stdout",
     "output_type": "stream",
     "text": [
      "Accuracy: 0.7762237762237763\n",
      "F1 Score 0.7333333333333334\n",
      "              precision    recall  f1-score   support\n",
      "\n",
      "           0       0.77      0.85      0.81        79\n",
      "           1       0.79      0.69      0.73        64\n",
      "\n",
      "    accuracy                           0.78       143\n",
      "   macro avg       0.78      0.77      0.77       143\n",
      "weighted avg       0.78      0.78      0.77       143\n",
      "\n"
     ]
    }
   ],
   "source": [
    "Knn_model=KNeighborsClassifier(best_K)\n",
    "Knn_model.fit(x_train_scaled, y_train)\n",
    "\n",
    "y_pred = Knn_model.predict(x_test_scaled)\n",
    "\n",
    "print(\"Accuracy:\", accuracy_score(y_test, y_pred))\n",
    "print(\"F1 Score\", f1_score(y_test, y_pred))\n",
    "print(classification_report(y_test, y_pred))"
   ]
  },
  {
   "cell_type": "code",
   "execution_count": 23,
   "metadata": {},
   "outputs": [
    {
     "name": "stdout",
     "output_type": "stream",
     "text": [
      "Accuracy: 0.8041958041958042\n",
      "F1 Score 0.7666666666666666\n",
      "              precision    recall  f1-score   support\n",
      "\n",
      "           0       0.79      0.87      0.83        79\n",
      "           1       0.82      0.72      0.77        64\n",
      "\n",
      "    accuracy                           0.80       143\n",
      "   macro avg       0.81      0.80      0.80       143\n",
      "weighted avg       0.81      0.80      0.80       143\n",
      "\n"
     ]
    }
   ],
   "source": [
    "random_forest = RandomForestClassifier(\n",
    "    n_estimators=best_n,\n",
    "    max_depth=best_max_depth,\n",
    "    min_samples_split=best_min_samples_split,\n",
    "    min_samples_leaf=best_min_samples_leaf,\n",
    "    random_state=42\n",
    ")\n",
    "\n",
    "random_forest.fit(x_train_scaled, y_train)\n",
    "\n",
    "y_pred = random_forest.predict(x_test_scaled)\n",
    "\n",
    "print(\"Accuracy:\", accuracy_score(y_test, y_pred))\n",
    "print(\"F1 Score\", f1_score(y_test, y_pred))\n",
    "print(classification_report(y_test, y_pred))"
   ]
  },
  {
   "cell_type": "code",
   "execution_count": 24,
   "metadata": {},
   "outputs": [
    {
     "name": "stdout",
     "output_type": "stream",
     "text": [
      "Accuracy: 0.7482517482517482\n",
      "F1 Score 0.6842105263157895\n",
      "              precision    recall  f1-score   support\n",
      "\n",
      "           0       0.73      0.86      0.79        79\n",
      "           1       0.78      0.61      0.68        64\n",
      "\n",
      "    accuracy                           0.75       143\n",
      "   macro avg       0.76      0.74      0.74       143\n",
      "weighted avg       0.75      0.75      0.74       143\n",
      "\n"
     ]
    }
   ],
   "source": [
    "gaussian = GaussianNB()\n",
    "gaussian.fit(x_train_scaled, y_train)\n",
    "y_pred = gaussian.predict(x_test_scaled)\n",
    "\n",
    "print(\"Accuracy:\", accuracy_score(y_test, y_pred))\n",
    "print(\"F1 Score\", f1_score(y_test, y_pred))\n",
    "print(classification_report(y_test, y_pred))"
   ]
  },
  {
   "cell_type": "markdown",
   "metadata": {},
   "source": [
    "## Part 5 - Apply on test and show model performance estimation"
   ]
  },
  {
   "cell_type": "code",
   "execution_count": 25,
   "metadata": {},
   "outputs": [
    {
     "data": {
      "text/html": [
       "<div>\n",
       "<style scoped>\n",
       "    .dataframe tbody tr th:only-of-type {\n",
       "        vertical-align: middle;\n",
       "    }\n",
       "\n",
       "    .dataframe tbody tr th {\n",
       "        vertical-align: top;\n",
       "    }\n",
       "\n",
       "    .dataframe thead th {\n",
       "        text-align: right;\n",
       "    }\n",
       "</style>\n",
       "<table border=\"1\" class=\"dataframe\">\n",
       "  <thead>\n",
       "    <tr style=\"text-align: right;\">\n",
       "      <th></th>\n",
       "      <th>Pclass</th>\n",
       "      <th>Sex</th>\n",
       "      <th>Fare</th>\n",
       "      <th>Embarked</th>\n",
       "      <th>Survived</th>\n",
       "      <th>AgeGroup</th>\n",
       "      <th>Family_Size</th>\n",
       "    </tr>\n",
       "  </thead>\n",
       "  <tbody>\n",
       "    <tr>\n",
       "      <th>0</th>\n",
       "      <td>3</td>\n",
       "      <td>1</td>\n",
       "      <td>7.0500</td>\n",
       "      <td>0</td>\n",
       "      <td>0</td>\n",
       "      <td>3</td>\n",
       "      <td>1</td>\n",
       "    </tr>\n",
       "    <tr>\n",
       "      <th>1</th>\n",
       "      <td>3</td>\n",
       "      <td>1</td>\n",
       "      <td>7.2500</td>\n",
       "      <td>0</td>\n",
       "      <td>0</td>\n",
       "      <td>3</td>\n",
       "      <td>1</td>\n",
       "    </tr>\n",
       "    <tr>\n",
       "      <th>2</th>\n",
       "      <td>3</td>\n",
       "      <td>1</td>\n",
       "      <td>14.5000</td>\n",
       "      <td>0</td>\n",
       "      <td>0</td>\n",
       "      <td>3</td>\n",
       "      <td>1</td>\n",
       "    </tr>\n",
       "    <tr>\n",
       "      <th>3</th>\n",
       "      <td>3</td>\n",
       "      <td>0</td>\n",
       "      <td>7.7500</td>\n",
       "      <td>2</td>\n",
       "      <td>0</td>\n",
       "      <td>3</td>\n",
       "      <td>1</td>\n",
       "    </tr>\n",
       "    <tr>\n",
       "      <th>4</th>\n",
       "      <td>3</td>\n",
       "      <td>1</td>\n",
       "      <td>56.4958</td>\n",
       "      <td>0</td>\n",
       "      <td>1</td>\n",
       "      <td>3</td>\n",
       "      <td>1</td>\n",
       "    </tr>\n",
       "  </tbody>\n",
       "</table>\n",
       "</div>"
      ],
      "text/plain": [
       "   Pclass  Sex     Fare  Embarked  Survived  AgeGroup  Family_Size\n",
       "0       3    1   7.0500         0         0         3            1\n",
       "1       3    1   7.2500         0         0         3            1\n",
       "2       3    1  14.5000         0         0         3            1\n",
       "3       3    0   7.7500         2         0         3            1\n",
       "4       3    1  56.4958         0         1         3            1"
      ]
     },
     "execution_count": 25,
     "metadata": {},
     "output_type": "execute_result"
    }
   ],
   "source": [
    "df2 = pd.read_csv(\"titanic_test.csv\")\n",
    "df_test = df2.copy() \n",
    "\n",
    "df_test['AgeGroup'] = pd.cut(df_test['Age'], bins=[0, 12, 18, 35, 60, 100],\n",
    "                        labels=['Child', 'Teen', 'Young Adult', 'Adult', 'Senior'])\n",
    "\n",
    "age_group_mapping = {'Child': 1, 'Teen': 2, 'Young Adult': 3, 'Adult': 4, 'Senior': 5}\n",
    "\n",
    "df_test['AgeGroup'] = df_test['AgeGroup'].map(age_group_mapping)\n",
    "\n",
    "\n",
    "df_test['Family_Size'] = df_test['SibSp'] + df_test['Parch'] + 1\n",
    "df_test = df_test.drop('SibSp', axis=1)\n",
    "df_test = df_test.drop('Parch', axis=1)\n",
    "\n",
    "\n",
    "df_test = df_test.drop('Age', axis=1)\n",
    "\n",
    "df_test.head()"
   ]
  },
  {
   "cell_type": "code",
   "execution_count": 26,
   "metadata": {},
   "outputs": [],
   "source": [
    "x = df_test.drop('Survived', axis=1) \n",
    "y_test = df_test['Survived']     \n",
    "\n",
    "scaler = StandardScaler()\n",
    "\n",
    "x_test_scaled = scaler.fit_transform(x)\n",
    "\n",
    "#x_train_scaled = scaler.fit_transform(x_train)\n",
    "#x_test_scaled = scaler.transform(x_test)"
   ]
  },
  {
   "cell_type": "code",
   "execution_count": 27,
   "metadata": {},
   "outputs": [
    {
     "name": "stdout",
     "output_type": "stream",
     "text": [
      "Knn model:\n",
      "\n",
      "Accuracy: 0.83\n",
      "F1 Score 0.75\n",
      "              precision    recall  f1-score   support\n",
      "\n",
      "           0       0.88      0.86      0.87       118\n",
      "           1       0.73      0.77      0.75        61\n",
      "\n",
      "    accuracy                           0.83       179\n",
      "   macro avg       0.81      0.81      0.81       179\n",
      "weighted avg       0.83      0.83      0.83       179\n",
      "\n",
      "------------------------------------------------------------\n",
      "Random forest model:\n",
      "\n",
      "Accuracy: 0.83\n",
      "F1 Score 0.74\n",
      "              precision    recall  f1-score   support\n",
      "\n",
      "           0       0.85      0.90      0.88       118\n",
      "           1       0.78      0.70      0.74        61\n",
      "\n",
      "    accuracy                           0.83       179\n",
      "   macro avg       0.82      0.80      0.81       179\n",
      "weighted avg       0.83      0.83      0.83       179\n",
      "\n",
      "------------------------------------------------------------\n",
      "Gaussian model:\n",
      "\n",
      "Accuracy: 0.8\n",
      "F1 Score 0.71\n",
      "              precision    recall  f1-score   support\n",
      "\n",
      "           0       0.85      0.86      0.85       118\n",
      "           1       0.72      0.70      0.71        61\n",
      "\n",
      "    accuracy                           0.80       179\n",
      "   macro avg       0.78      0.78      0.78       179\n",
      "weighted avg       0.80      0.80      0.80       179\n",
      "\n"
     ]
    }
   ],
   "source": [
    "y_pred = Knn_model.predict(x_test_scaled)\n",
    "print(\"Knn model:\\n\")\n",
    "print(\"Accuracy:\", round(accuracy_score(y_test, y_pred),2))\n",
    "print(\"F1 Score\", round(f1_score(y_test, y_pred),2))\n",
    "print(classification_report(y_test, y_pred))\n",
    "\n",
    "print(\"------------------------------------------------------------\")\n",
    "y_pred = random_forest.predict(x_test_scaled)\n",
    "print(\"Random forest model:\\n\")\n",
    "print(\"Accuracy:\", round(accuracy_score(y_test, y_pred),2))\n",
    "print(\"F1 Score\", round(f1_score(y_test, y_pred),2))\n",
    "print(classification_report(y_test, y_pred))\n",
    "\n",
    "print(\"------------------------------------------------------------\")\n",
    "y_pred = gaussian.predict(x_test_scaled)\n",
    "print(\"Gaussian model:\\n\")\n",
    "print(\"Accuracy:\", round(accuracy_score(y_test, y_pred),2))\n",
    "print(\"F1 Score\", round(f1_score(y_test, y_pred),2))\n",
    "print(classification_report(y_test, y_pred))"
   ]
  },
  {
   "cell_type": "code",
   "execution_count": null,
   "metadata": {},
   "outputs": [],
   "source": []
  }
 ],
 "metadata": {
  "kernelspec": {
   "display_name": "Python 3",
   "language": "python",
   "name": "python3"
  },
  "language_info": {
   "codemirror_mode": {
    "name": "ipython",
    "version": 3
   },
   "file_extension": ".py",
   "mimetype": "text/x-python",
   "name": "python",
   "nbconvert_exporter": "python",
   "pygments_lexer": "ipython3",
   "version": "3.7.3"
  }
 },
 "nbformat": 4,
 "nbformat_minor": 5
}
